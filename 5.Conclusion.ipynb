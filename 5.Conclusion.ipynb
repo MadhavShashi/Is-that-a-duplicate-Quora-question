{
 "cells": [
  {
   "cell_type": "markdown",
   "metadata": {},
   "source": [
    "<h1><p style=\"color: green\">Conclusion</p></h1>"
   ]
  },
  {
   "cell_type": "code",
   "execution_count": 1,
   "metadata": {},
   "outputs": [],
   "source": [
    "from prettytable import PrettyTable"
   ]
  },
  {
   "cell_type": "code",
   "execution_count": 2,
   "metadata": {},
   "outputs": [
    {
     "name": "stdout",
     "output_type": "stream",
     "text": [
      "+--------------+---------------------+-------------------------------------+------------------------+---------------+\n",
      "| Dataset Size |      Model Name     |               Features              | Hyperparameter Tunning | Test Log Loss |\n",
      "+--------------+---------------------+-------------------------------------+------------------------+---------------+\n",
      "|    ~ 404K    |        Random       |   Sim Fs+Adv Fs+TFIDF Weighted W2V  |           NA           |      0.88     |\n",
      "|    ~ 404K    | Logistic Regression |   Sim Fs+Adv Fs+TFIDF Weighted W2V  |          Done          |      0.42     |\n",
      "|    ~ 404K    |      Linear SVM     |   Sim Fs+Adv Fs+TFIDF Weighted W2V  |          Done          |      0.45     |\n",
      "|    ~ 404K    |       XGBoost       |   Sim Fs+Adv Fs+TFIDF Weighted W2V  |           NA           |      0.35     |\n",
      "|    ~ 100K    |       XGBoost       |   Sim Fs+Adv Fs+TFIDF Weighted W2V  |          Done          |      0.33     |\n",
      "|              |                     |                                     |                        |               |\n",
      "|              |                     |                                     |                        |               |\n",
      "|    ~ 202K    |        Random       |      Sim Fs+Adv Fs+TFIDF Simple     |           NA           |      0.88     |\n",
      "|    ~ 202K    | Logistic Regression |      Sim Fs+Adv Fs+TFIDF Simple     |          Done          |      0.39     |\n",
      "|    ~ 202K    |      Linear SVM     |      Sim Fs+Adv Fs+TFIDF Simple     |          Done          |      0.43     |\n",
      "|    ~ 202K    |       XGBoost       |      Sim Fs+Adv Fs+TFIDF Simple     |          Done          |      0.31     |\n",
      "|              |                     |                                     |                        |               |\n",
      "|              |                     |                                     |                        |               |\n",
      "|    ~ 202K    |        Random       | Sim Fs + Adv Fs + Word2Vec Features |           NA           |      0.88     |\n",
      "|    ~ 202K    | Logistic Regression | Sim Fs + Adv Fs + Word2Vec Features |          Done          |      0.40     |\n",
      "|    ~ 202K    |      Linear SVM     | Sim Fs + Adv Fs + Word2Vec Features |          Done          |      0.41     |\n",
      "|    ~ 202K    |       XGBoost       | Sim Fs + Adv Fs + Word2Vec Features |          Done          |      0.33     |\n",
      "+--------------+---------------------+-------------------------------------+------------------------+---------------+\n"
     ]
    }
   ],
   "source": [
    "ptable = PrettyTable()\n",
    "ptable.title = \" Model Comparision \"\n",
    "ptable.field_names = ['Dataset Size', 'Model Name','Features','Hyperparameter Tunning', 'Test Log Loss']\n",
    "ptable.add_row([\"~ 404K\",\"Random\",\"Sim Fs+Adv Fs+TFIDF Weighted W2V\",\"NA\",\"0.88\"])\n",
    "ptable.add_row([\"~ 404K\",\"Logistic Regression\",\"Sim Fs+Adv Fs+TFIDF Weighted W2V\",\"Done\",\"0.42\"])\n",
    "ptable.add_row([\"~ 404K\",\"Linear SVM\",\"Sim Fs+Adv Fs+TFIDF Weighted W2V\",\"Done\",\"0.45\"])\n",
    "ptable.add_row([\"~ 404K\",\"XGBoost\",\"Sim Fs+Adv Fs+TFIDF Weighted W2V\",\"NA\",\"0.35\"])\n",
    "ptable.add_row([\"~ 100K\",\"XGBoost\",\"Sim Fs+Adv Fs+TFIDF Weighted W2V\",\"Done\",\"0.33\"])\n",
    "ptable.add_row([\"\\n\",\"\\n\",\"\\n\",\"\\n\",\"\\n\"])\n",
    "ptable.add_row([\"~ 202K\",\"Random\",\"Sim Fs+Adv Fs+TFIDF Simple\",\"NA\",\"0.88\"])\n",
    "ptable.add_row([\"~ 202K\",\"Logistic Regression\",\"Sim Fs+Adv Fs+TFIDF Simple\",\"Done\",\"0.39\"])\n",
    "ptable.add_row([\"~ 202K\",\"Linear SVM\",\"Sim Fs+Adv Fs+TFIDF Simple\",\"Done\",\"0.43\"])\n",
    "ptable.add_row([\"~ 202K\",\"XGBoost\",\"Sim Fs+Adv Fs+TFIDF Simple\",\"Done\",\"0.31\"])\n",
    "ptable.add_row([\"\\n\",\"\\n\",\"\\n\",\"\\n\",\"\\n\"])\n",
    "ptable.add_row([\"~ 202K\",\"Random\",\"Sim Fs + Adv Fs + Word2Vec Features\",\"NA\",\"0.88\"])\n",
    "ptable.add_row([\"~ 202K\",\"Logistic Regression\",\"Sim Fs + Adv Fs + Word2Vec Features\",\"Done\",\"0.40\"])\n",
    "ptable.add_row([\"~ 202K\",\"Linear SVM\",\"Sim Fs + Adv Fs + Word2Vec Features\",\"Done\",\"0.41\"])\n",
    "ptable.add_row([\"~ 202K\",\"XGBoost\",\"Sim Fs + Adv Fs + Word2Vec Features\",\"Done\",\"0.33\"])\n",
    "print(ptable)"
   ]
  },
  {
   "cell_type": "markdown",
   "metadata": {},
   "source": [
    "<html>\n",
    "<body><b>\n",
    "<p style=\"color: #009900\">We can see, As dimension increases(dim increases with TFIDF Simple) Logistic Regression and XGB starts to perform well, whereas Linear SVM produces best results with Sim Fs + Adv Fs + Word2Vec Features</p>\n",
    "</b></body>\n",
    "</html>"
   ]
  },
  {
   "cell_type": "markdown",
   "metadata": {},
   "source": [
    "<h1><p style=\"color:blue\">Step By Step Procedure and Observation</p></h1>"
   ]
  },
  {
   "cell_type": "markdown",
   "metadata": {},
   "source": [
    "<html><p style=\"font-size:15px\"><b>1. Exploratory Data Analysis:</b></p></html>\n",
    "\n",
    "- First we did Exploratory Data Analysis on \"train.csv\" data in which we performed such as finding number of different questions, checking for duplicates, number of occurence of questions etc.\n",
    "\n",
    "<html><p style=\"font-size:15px\"><b>2. Feature extraction:</b></p></html>\n",
    "\n",
    "- Performed some feature extraction like fuzz ratio, fuzz partial ration, common word share etc.\n",
    "\n",
    "<html><p style=\"font-size:15px\"><b>3. Visualisation techniques:</b></p></html>\n",
    "\n",
    "- After performing feature extraction I applied some visualization techniques such as pair-plot, violin plot, TSNE, etc.\n",
    "\n",
    "<html><p style=\"font-size:15px\"><b>4. Tokenizer: TFIDF Weighted W2V:</b></p></html>\n",
    "\n",
    "- Next, Peformed TFIDF Weighted W2V vectorizer on pair of questions dataset and then merged each TFIDF Weighted W2V vectors to our advanced features set and Basic Feature Set.\n",
    "\n",
    "<html><p style=\"font-size:15px\"><b>5. Applied Machine learning algorithm:</b></p></html>\n",
    "\n",
    "- In the next step, Applied some Machine learning algorithm such as logistic regression, Linear SVM and XGBoost Algorithm and try to found best log-loss Score for both train and test dataset.\n",
    "\n",
    "<html><p style=\"font-size:15px\"><b>6. Tokenizer: Simple TFIDF:</b></p></html>\n",
    "\n",
    "- Peformed Simple TFIDF vectorizer on pair of questions dataset and then merged each TFIDF vectors to our advanced features set and Basic Feature Set. Next, Applied Step(5).\n",
    "\n",
    "<html><p style=\"font-size:15px\"><b>7. Tokenizer: Word2Vec Features:</b></p></html>\n",
    "\n",
    "- Peformed  Word2Vec Features on pair of questions dataset and then merged each Word2Vec Features to our advanced features set and Basic Feature Set. Next, Applied Step(5).\n"
   ]
  },
  {
   "cell_type": "code",
   "execution_count": null,
   "metadata": {},
   "outputs": [],
   "source": []
  }
 ],
 "metadata": {
  "kernelspec": {
   "display_name": "Python 3",
   "language": "python",
   "name": "python3"
  },
  "language_info": {
   "codemirror_mode": {
    "name": "ipython",
    "version": 3
   },
   "file_extension": ".py",
   "mimetype": "text/x-python",
   "name": "python",
   "nbconvert_exporter": "python",
   "pygments_lexer": "ipython3",
   "version": "3.7.6"
  }
 },
 "nbformat": 4,
 "nbformat_minor": 2
}
