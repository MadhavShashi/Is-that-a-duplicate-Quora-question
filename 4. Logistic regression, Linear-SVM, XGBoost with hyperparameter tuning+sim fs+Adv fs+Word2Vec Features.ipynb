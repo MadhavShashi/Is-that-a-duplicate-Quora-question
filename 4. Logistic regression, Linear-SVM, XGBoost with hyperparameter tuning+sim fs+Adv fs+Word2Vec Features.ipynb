{
 "cells": [
  {
   "cell_type": "markdown",
   "metadata": {},
   "source": [
    "<h1><p style=\"color: blue\">Performing hyperparameter tuning of Logistic regression, Linear-SVM, XGBoost with Word2Vec Features</p></h1>"
   ]
  },
  {
   "cell_type": "code",
   "execution_count": 2,
   "metadata": {},
   "outputs": [
    {
     "data": {
      "text/html": [
       "        <script type=\"text/javascript\">\n",
       "        window.PlotlyConfig = {MathJaxConfig: 'local'};\n",
       "        if (window.MathJax) {MathJax.Hub.Config({SVG: {font: \"STIX-Web\"}});}\n",
       "        if (typeof require !== 'undefined') {\n",
       "        require.undef(\"plotly\");\n",
       "        requirejs.config({\n",
       "            paths: {\n",
       "                'plotly': ['https://cdn.plot.ly/plotly-latest.min']\n",
       "            }\n",
       "        });\n",
       "        require(['plotly'], function(Plotly) {\n",
       "            window._Plotly = Plotly;\n",
       "        });\n",
       "        }\n",
       "        </script>\n",
       "        "
      ]
     },
     "metadata": {},
     "output_type": "display_data"
    }
   ],
   "source": [
    "import pandas as pd\n",
    "import numpy as np\n",
    "import matplotlib.pyplot as plt\n",
    "import seaborn as sns\n",
    "\n",
    "from subprocess import check_output\n",
    "%matplotlib inline\n",
    "import plotly.offline as py\n",
    "py.init_notebook_mode(connected=True)\n",
    "import plotly.graph_objs as go\n",
    "import plotly.tools as tls\n",
    "import os\n",
    "import gc\n",
    "import re\n",
    "from os import path\n",
    "\n",
    "#import cPickle\n",
    "import _pickle as cPickle\n",
    "import gensim\n",
    "from nltk.corpus import stopwords\n",
    "from tqdm import tqdm\n",
    "from scipy.stats import skew, kurtosis\n",
    "from scipy.spatial.distance import cosine, cityblock, jaccard, canberra, euclidean, minkowski, braycurtis\n",
    "from nltk import word_tokenize\n",
    "\n",
    "from sklearn.preprocessing import MinMaxScaler\n",
    "\n",
    "from sklearn.manifold import TSNE\n",
    "from sklearn.preprocessing import normalize\n",
    "from sklearn.feature_extraction.text import CountVectorizer\n",
    "from sklearn.feature_extraction.text import TfidfVectorizer\n",
    "from sklearn.decomposition import TruncatedSVD\n",
    "from sklearn.neighbors import KNeighborsClassifier\n",
    "from sklearn.metrics import confusion_matrix\n",
    "from sklearn.metrics.classification import accuracy_score, log_loss\n",
    "from sklearn.multiclass import OneVsRestClassifier\n",
    "from sklearn.svm import SVC\n",
    "from sklearn.model_selection import StratifiedKFold \n",
    "from sklearn.calibration import CalibratedClassifierCV\n",
    "from sklearn.model_selection import train_test_split\n",
    "from sklearn.model_selection import GridSearchCV\n",
    "from sklearn.metrics import normalized_mutual_info_score\n",
    "from sklearn.ensemble import RandomForestClassifier\n",
    "from sklearn.model_selection import cross_val_score\n",
    "from sklearn.linear_model import SGDClassifier\n",
    "from sklearn import model_selection\n",
    "from sklearn.linear_model import LogisticRegression\n",
    "from sklearn.metrics import precision_recall_curve, auc, roc_curve\n",
    "from mlxtend.classifier import StackingClassifier\n",
    "\n",
    "from collections import Counter, defaultdict\n",
    "from scipy.sparse import hstack\n",
    "\n",
    "from sqlalchemy import create_engine # database connection\n",
    "\n",
    "import xgboost as xgb\n",
    "\n",
    "from xgboost import XGBClassifier\n",
    "from sklearn.model_selection import RandomizedSearchCV,StratifiedKFold\n",
    "\n",
    "from sklearn.utils.testing import ignore_warnings\n",
    "from sklearn.exceptions import ConvergenceWarning\n",
    "\n",
    "import warnings\n",
    "with warnings.catch_warnings():\n",
    "    warnings.filterwarnings(\"ignore\", category=ConvergenceWarning)\n",
    "\n",
    "#import warnings\n",
    "#with warnings.catch_warnings():\n",
    "#    warnings.filterwarnings(\"ignore\")"
   ]
  },
  {
   "cell_type": "markdown",
   "metadata": {},
   "source": [
    "<h3> 5. Loading Data Sheet and getting ready for apply Word2Vec Feature</h3>"
   ]
  },
  {
   "cell_type": "code",
   "execution_count": 199,
   "metadata": {},
   "outputs": [],
   "source": [
    "# Load Basic Feature and advance feature data set\n",
    "df_basic_feature = pd.read_csv(\"df_fe_without_preprocessing_train.csv\",encoding='latin-1')\n",
    "df_advance_feature = pd.read_csv(\"nlp_features_train.csv\",encoding='latin-1')"
   ]
  },
  {
   "cell_type": "markdown",
   "metadata": {},
   "source": [
    "<p style=\"color: blue\">Now drop 'qid1', 'qid2','question1','question2','is_duplicate' columns and add both the dataframe</p>"
   ]
  },
  {
   "cell_type": "code",
   "execution_count": 200,
   "metadata": {},
   "outputs": [],
   "source": [
    "# Columns dropped from basic feature dataframe \n",
    "df_basic_feature = df_basic_feature.drop(['qid1','qid2'],axis=1)\n",
    "\n",
    "# Columns dropped from advance feature dataframe \n",
    "df_advance_feature = df_advance_feature.drop(['qid1','qid2','question1','question2','is_duplicate'],axis=1)\n",
    "\n",
    "# Lets add both the truncated dataframe into one dataframe\n",
    "data  = df_basic_feature.merge(df_advance_feature, on='id',how='left')"
   ]
  },
  {
   "cell_type": "code",
   "execution_count": 201,
   "metadata": {},
   "outputs": [
    {
     "name": "stdout",
     "output_type": "stream",
     "text": [
      "            id                         question1  \\\n",
      "105780  105780    How can I develop android app?   \n",
      "201841  201841  How can I create an Android app?   \n",
      "363362  363362                               NaN   \n",
      "\n",
      "                                                question2  is_duplicate  \\\n",
      "105780                                                NaN             0   \n",
      "201841                                                NaN             0   \n",
      "363362  My Chinese name is Haichao Yu. What English na...             0   \n",
      "\n",
      "        freq_qid1  freq_qid2  q1len  q2len  q1_n_words  q2_n_words  ...  \\\n",
      "105780          2          2     30      0           6           1  ...   \n",
      "201841          1          2     32      0           7           1  ...   \n",
      "363362          1          1      0    123           1          21  ...   \n",
      "\n",
      "        ctc_max  last_word_eq  first_word_eq  abs_len_diff  mean_len  \\\n",
      "105780      0.0           0.0            0.0           0.0       0.0   \n",
      "201841      0.0           0.0            0.0           0.0       0.0   \n",
      "363362      0.0           0.0            0.0           0.0       0.0   \n",
      "\n",
      "        token_set_ratio  token_sort_ratio  fuzz_ratio  fuzz_partial_ratio  \\\n",
      "105780                0                 0           0                   0   \n",
      "201841                0                 0           0                   0   \n",
      "363362                0                 0           0                   0   \n",
      "\n",
      "        longest_substr_ratio  \n",
      "105780                   0.0  \n",
      "201841                   0.0  \n",
      "363362                   0.0  \n",
      "\n",
      "[3 rows x 30 columns]\n"
     ]
    }
   ],
   "source": [
    "nan_rows = data[data.isnull().any(1)]\n",
    "print (nan_rows)"
   ]
  },
  {
   "cell_type": "markdown",
   "metadata": {},
   "source": [
    "<p style=\"color: blue\">Found 3 such rows, we will remove these rows from the original dataset itself</p>"
   ]
  },
  {
   "cell_type": "code",
   "execution_count": 202,
   "metadata": {},
   "outputs": [],
   "source": [
    "data = data[data['question1'].notnull()]\n",
    "data = data[data['question2'].notnull()]"
   ]
  },
  {
   "cell_type": "code",
   "execution_count": 203,
   "metadata": {},
   "outputs": [
    {
     "name": "stdout",
     "output_type": "stream",
     "text": [
      "Empty DataFrame\n",
      "Columns: [id, question1, question2, is_duplicate, freq_qid1, freq_qid2, q1len, q2len, q1_n_words, q2_n_words, word_Common, word_Total, word_share, freq_q1+q2, freq_q1-q2, cwc_min, cwc_max, csc_min, csc_max, ctc_min, ctc_max, last_word_eq, first_word_eq, abs_len_diff, mean_len, token_set_ratio, token_sort_ratio, fuzz_ratio, fuzz_partial_ratio, longest_substr_ratio]\n",
      "Index: []\n",
      "\n",
      "[0 rows x 30 columns]\n"
     ]
    }
   ],
   "source": [
    "nan_rows = data[data.isnull().any(1)]\n",
    "print (nan_rows)"
   ]
  },
  {
   "cell_type": "code",
   "execution_count": 204,
   "metadata": {},
   "outputs": [
    {
     "name": "stdout",
     "output_type": "stream",
     "text": [
      "<class 'pandas.core.frame.DataFrame'>\n",
      "Int64Index: 404287 entries, 0 to 404289\n",
      "Data columns (total 30 columns):\n",
      " #   Column                Non-Null Count   Dtype  \n",
      "---  ------                --------------   -----  \n",
      " 0   id                    404287 non-null  int64  \n",
      " 1   question1             404287 non-null  object \n",
      " 2   question2             404287 non-null  object \n",
      " 3   is_duplicate          404287 non-null  int64  \n",
      " 4   freq_qid1             404287 non-null  int64  \n",
      " 5   freq_qid2             404287 non-null  int64  \n",
      " 6   q1len                 404287 non-null  int64  \n",
      " 7   q2len                 404287 non-null  int64  \n",
      " 8   q1_n_words            404287 non-null  int64  \n",
      " 9   q2_n_words            404287 non-null  int64  \n",
      " 10  word_Common           404287 non-null  float64\n",
      " 11  word_Total            404287 non-null  float64\n",
      " 12  word_share            404287 non-null  float64\n",
      " 13  freq_q1+q2            404287 non-null  int64  \n",
      " 14  freq_q1-q2            404287 non-null  int64  \n",
      " 15  cwc_min               404287 non-null  float64\n",
      " 16  cwc_max               404287 non-null  float64\n",
      " 17  csc_min               404287 non-null  float64\n",
      " 18  csc_max               404287 non-null  float64\n",
      " 19  ctc_min               404287 non-null  float64\n",
      " 20  ctc_max               404287 non-null  float64\n",
      " 21  last_word_eq          404287 non-null  float64\n",
      " 22  first_word_eq         404287 non-null  float64\n",
      " 23  abs_len_diff          404287 non-null  float64\n",
      " 24  mean_len              404287 non-null  float64\n",
      " 25  token_set_ratio       404287 non-null  int64  \n",
      " 26  token_sort_ratio      404287 non-null  int64  \n",
      " 27  fuzz_ratio            404287 non-null  int64  \n",
      " 28  fuzz_partial_ratio    404287 non-null  int64  \n",
      " 29  longest_substr_ratio  404287 non-null  float64\n",
      "dtypes: float64(14), int64(14), object(2)\n",
      "memory usage: 95.6+ MB\n"
     ]
    }
   ],
   "source": [
    "data.info()"
   ]
  },
  {
   "cell_type": "code",
   "execution_count": 205,
   "metadata": {
    "scrolled": true
   },
   "outputs": [
    {
     "data": {
      "text/html": [
       "<div>\n",
       "<style scoped>\n",
       "    .dataframe tbody tr th:only-of-type {\n",
       "        vertical-align: middle;\n",
       "    }\n",
       "\n",
       "    .dataframe tbody tr th {\n",
       "        vertical-align: top;\n",
       "    }\n",
       "\n",
       "    .dataframe thead th {\n",
       "        text-align: right;\n",
       "    }\n",
       "</style>\n",
       "<table border=\"1\" class=\"dataframe\">\n",
       "  <thead>\n",
       "    <tr style=\"text-align: right;\">\n",
       "      <th></th>\n",
       "      <th>id</th>\n",
       "      <th>question1</th>\n",
       "      <th>question2</th>\n",
       "      <th>is_duplicate</th>\n",
       "      <th>freq_qid1</th>\n",
       "      <th>freq_qid2</th>\n",
       "      <th>q1len</th>\n",
       "      <th>q2len</th>\n",
       "      <th>q1_n_words</th>\n",
       "      <th>q2_n_words</th>\n",
       "      <th>...</th>\n",
       "      <th>ctc_max</th>\n",
       "      <th>last_word_eq</th>\n",
       "      <th>first_word_eq</th>\n",
       "      <th>abs_len_diff</th>\n",
       "      <th>mean_len</th>\n",
       "      <th>token_set_ratio</th>\n",
       "      <th>token_sort_ratio</th>\n",
       "      <th>fuzz_ratio</th>\n",
       "      <th>fuzz_partial_ratio</th>\n",
       "      <th>longest_substr_ratio</th>\n",
       "    </tr>\n",
       "  </thead>\n",
       "  <tbody>\n",
       "    <tr>\n",
       "      <th>0</th>\n",
       "      <td>0</td>\n",
       "      <td>What is the step by step guide to invest in sh...</td>\n",
       "      <td>What is the step by step guide to invest in sh...</td>\n",
       "      <td>0</td>\n",
       "      <td>1</td>\n",
       "      <td>1</td>\n",
       "      <td>66</td>\n",
       "      <td>57</td>\n",
       "      <td>14</td>\n",
       "      <td>12</td>\n",
       "      <td>...</td>\n",
       "      <td>0.785709</td>\n",
       "      <td>0.0</td>\n",
       "      <td>1.0</td>\n",
       "      <td>2.0</td>\n",
       "      <td>13.0</td>\n",
       "      <td>100</td>\n",
       "      <td>93</td>\n",
       "      <td>93</td>\n",
       "      <td>100</td>\n",
       "      <td>0.982759</td>\n",
       "    </tr>\n",
       "    <tr>\n",
       "      <th>1</th>\n",
       "      <td>1</td>\n",
       "      <td>What is the story of Kohinoor (Koh-i-Noor) Dia...</td>\n",
       "      <td>What would happen if the Indian government sto...</td>\n",
       "      <td>0</td>\n",
       "      <td>4</td>\n",
       "      <td>1</td>\n",
       "      <td>51</td>\n",
       "      <td>88</td>\n",
       "      <td>8</td>\n",
       "      <td>13</td>\n",
       "      <td>...</td>\n",
       "      <td>0.466664</td>\n",
       "      <td>0.0</td>\n",
       "      <td>1.0</td>\n",
       "      <td>5.0</td>\n",
       "      <td>12.5</td>\n",
       "      <td>86</td>\n",
       "      <td>63</td>\n",
       "      <td>66</td>\n",
       "      <td>75</td>\n",
       "      <td>0.596154</td>\n",
       "    </tr>\n",
       "  </tbody>\n",
       "</table>\n",
       "<p>2 rows × 30 columns</p>\n",
       "</div>"
      ],
      "text/plain": [
       "   id                                          question1  \\\n",
       "0   0  What is the step by step guide to invest in sh...   \n",
       "1   1  What is the story of Kohinoor (Koh-i-Noor) Dia...   \n",
       "\n",
       "                                           question2  is_duplicate  freq_qid1  \\\n",
       "0  What is the step by step guide to invest in sh...             0          1   \n",
       "1  What would happen if the Indian government sto...             0          4   \n",
       "\n",
       "   freq_qid2  q1len  q2len  q1_n_words  q2_n_words  ...   ctc_max  \\\n",
       "0          1     66     57          14          12  ...  0.785709   \n",
       "1          1     51     88           8          13  ...  0.466664   \n",
       "\n",
       "   last_word_eq  first_word_eq  abs_len_diff  mean_len  token_set_ratio  \\\n",
       "0           0.0            1.0           2.0      13.0              100   \n",
       "1           0.0            1.0           5.0      12.5               86   \n",
       "\n",
       "   token_sort_ratio  fuzz_ratio  fuzz_partial_ratio  longest_substr_ratio  \n",
       "0                93          93                 100              0.982759  \n",
       "1                63          66                  75              0.596154  \n",
       "\n",
       "[2 rows x 30 columns]"
      ]
     },
     "execution_count": 205,
     "metadata": {},
     "output_type": "execute_result"
    }
   ],
   "source": [
    "data.head(2)"
   ]
  },
  {
   "cell_type": "code",
   "execution_count": 206,
   "metadata": {
    "scrolled": true
   },
   "outputs": [
    {
     "data": {
      "text/plain": [
       "404287"
      ]
     },
     "execution_count": 206,
     "metadata": {},
     "output_type": "execute_result"
    }
   ],
   "source": [
    "data.shape[0]"
   ]
  },
  {
   "cell_type": "code",
   "execution_count": 207,
   "metadata": {},
   "outputs": [
    {
     "data": {
      "text/plain": [
       "202144"
      ]
     },
     "execution_count": 207,
     "metadata": {},
     "output_type": "execute_result"
    }
   ],
   "source": [
    "data= data.sample(frac = 0.5) \n",
    "data.shape[0]"
   ]
  },
  {
   "cell_type": "code",
   "execution_count": null,
   "metadata": {},
   "outputs": [],
   "source": []
  },
  {
   "cell_type": "markdown",
   "metadata": {},
   "source": [
    "<h3>5.1 let's start to make Word2Vec Features and save in dataframe \"data\"</h3>"
   ]
  },
  {
   "cell_type": "code",
   "execution_count": 209,
   "metadata": {
    "scrolled": false
   },
   "outputs": [
    {
     "name": "stderr",
     "output_type": "stream",
     "text": [
      "202144it [00:45, 4465.74it/s]\n",
      "202144it [00:39, 5089.00it/s]\n"
     ]
    }
   ],
   "source": [
    "\n",
    "import warnings\n",
    "warnings.filterwarnings(\"ignore\", category=RuntimeWarning) \n",
    "\n",
    "stop_words = stopwords.words('english')\n",
    "\n",
    "\n",
    "def wmd(s1, s2):\n",
    "    s1 = str(s1).lower().split()\n",
    "    s2 = str(s2).lower().split()\n",
    "    stop_words = stopwords.words('english')\n",
    "    s1 = [w for w in s1 if w not in stop_words]\n",
    "    s2 = [w for w in s2 if w not in stop_words]\n",
    "    return model.wmdistance(s1, s2)\n",
    "\n",
    "\n",
    "def norm_wmd(s1, s2):\n",
    "    s1 = str(s1).lower().split()\n",
    "    s2 = str(s2).lower().split()\n",
    "    stop_words = stopwords.words('english')\n",
    "    s1 = [w for w in s1 if w not in stop_words]\n",
    "    s2 = [w for w in s2 if w not in stop_words]\n",
    "    return norm_model.wmdistance(s1, s2)\n",
    "\n",
    "\n",
    "def sent2vec(s):\n",
    "    words = str(s).lower()\n",
    "    words = word_tokenize(words)\n",
    "    words = [w for w in words if not w in stop_words]\n",
    "    words = [w for w in words if w.isalpha()]\n",
    "    M = []\n",
    "    for w in words:\n",
    "        try:\n",
    "            M.append(model[w])\n",
    "        except:\n",
    "            continue\n",
    "    M = np.array(M)\n",
    "    v = M.sum(axis=0)\n",
    "    return v / np.sqrt((v ** 2).sum())\n",
    "\n",
    "\n",
    "\n",
    "model = gensim.models.KeyedVectors.load_word2vec_format('Data/GoogleNews-vectors-negative300.bin.gz', binary=True)\n",
    "#model = gensim.models.KeyedVectors.load_word2vec_format(wv, binary=True)\n",
    "data['wmd'] = data.apply(lambda x: wmd(x['question1'], x['question2']), axis=1)\n",
    "\n",
    "\n",
    "norm_model = gensim.models.KeyedVectors.load_word2vec_format('Data/GoogleNews-vectors-negative300.bin.gz', binary=True)\n",
    "#norm_model = gensim.models.KeyedVectors.load_word2vec_format(wv, binary=True)\n",
    "norm_model.init_sims(replace=True)\n",
    "data['norm_wmd'] = data.apply(lambda x: norm_wmd(x['question1'], x['question2']), axis=1)\n",
    "\n",
    "\n",
    "question1_vectors = np.zeros((data.shape[0], 300))\n",
    "error_count = 0\n",
    "for i, q in tqdm(enumerate(data.question1.values)):\n",
    "    question1_vectors[i, :] = sent2vec(q)\n",
    "\n",
    "question2_vectors  = np.zeros((data.shape[0], 300))\n",
    "for i, q in tqdm(enumerate(data.question2.values)):\n",
    "    question2_vectors[i, :] = sent2vec(q)\n",
    "\n",
    "\n",
    "data['cosine_distance'] = [cosine(x, y) for (x, y) in zip(np.nan_to_num(question1_vectors),\n",
    "                                                          np.nan_to_num(question2_vectors))]\n",
    "\n",
    "data['cityblock_distance'] = [cityblock(x, y) for (x, y) in zip(np.nan_to_num(question1_vectors),\n",
    "                                                          np.nan_to_num(question2_vectors))]\n",
    "\n",
    "data['jaccard_distance'] = [jaccard(x, y) for (x, y) in zip(np.nan_to_num(question1_vectors),\n",
    "                                                          np.nan_to_num(question2_vectors))]\n",
    "\n",
    "data['canberra_distance'] = [canberra(x, y) for (x, y) in zip(np.nan_to_num(question1_vectors),\n",
    "                                                          np.nan_to_num(question2_vectors))]\n",
    "\n",
    "data['euclidean_distance'] = [euclidean(x, y) for (x, y) in zip(np.nan_to_num(question1_vectors),\n",
    "                                                          np.nan_to_num(question2_vectors))]\n",
    "\n",
    "data['minkowski_distance'] = [minkowski(x, y, 3) for (x, y) in zip(np.nan_to_num(question1_vectors),\n",
    "                                                          np.nan_to_num(question2_vectors))]\n",
    "\n",
    "data['braycurtis_distance'] = [braycurtis(x, y) for (x, y) in zip(np.nan_to_num(question1_vectors),\n",
    "                                                          np.nan_to_num(question2_vectors))]\n",
    "\n",
    "data['skew_q1vec'] = [skew(x) for x in np.nan_to_num(question1_vectors)]\n",
    "data['skew_q2vec'] = [skew(x) for x in np.nan_to_num(question2_vectors)]\n",
    "data['kur_q1vec'] = [kurtosis(x) for x in np.nan_to_num(question1_vectors)]\n",
    "data['kur_q2vec'] = [kurtosis(x) for x in np.nan_to_num(question2_vectors)]\n",
    "\n",
    "cPickle.dump(question1_vectors, open('data/q1_w2v.pkl', 'wb'), -1)\n",
    "cPickle.dump(question2_vectors, open('data/q2_w2v.pkl', 'wb'), -1)\n",
    "\n",
    "\n",
    "data.to_csv('data/quora_features.csv', index=False)"
   ]
  },
  {
   "cell_type": "code",
   "execution_count": null,
   "metadata": {},
   "outputs": [],
   "source": []
  },
  {
   "cell_type": "markdown",
   "metadata": {},
   "source": [
    "<h2> 5.2 Applying ML Models on newly created DATA </h2>"
   ]
  },
  {
   "cell_type": "code",
   "execution_count": 3,
   "metadata": {},
   "outputs": [],
   "source": [
    "data= pd.read_csv(\"Data/quora_features.csv\")"
   ]
  },
  {
   "cell_type": "code",
   "execution_count": 4,
   "metadata": {},
   "outputs": [
    {
     "data": {
      "text/html": [
       "<div>\n",
       "<style scoped>\n",
       "    .dataframe tbody tr th:only-of-type {\n",
       "        vertical-align: middle;\n",
       "    }\n",
       "\n",
       "    .dataframe tbody tr th {\n",
       "        vertical-align: top;\n",
       "    }\n",
       "\n",
       "    .dataframe thead th {\n",
       "        text-align: right;\n",
       "    }\n",
       "</style>\n",
       "<table border=\"1\" class=\"dataframe\">\n",
       "  <thead>\n",
       "    <tr style=\"text-align: right;\">\n",
       "      <th></th>\n",
       "      <th>id</th>\n",
       "      <th>question1</th>\n",
       "      <th>question2</th>\n",
       "      <th>is_duplicate</th>\n",
       "      <th>freq_qid1</th>\n",
       "      <th>freq_qid2</th>\n",
       "      <th>q1len</th>\n",
       "      <th>q2len</th>\n",
       "      <th>q1_n_words</th>\n",
       "      <th>q2_n_words</th>\n",
       "      <th>...</th>\n",
       "      <th>cityblock_distance</th>\n",
       "      <th>jaccard_distance</th>\n",
       "      <th>canberra_distance</th>\n",
       "      <th>euclidean_distance</th>\n",
       "      <th>minkowski_distance</th>\n",
       "      <th>braycurtis_distance</th>\n",
       "      <th>skew_q1vec</th>\n",
       "      <th>skew_q2vec</th>\n",
       "      <th>kur_q1vec</th>\n",
       "      <th>kur_q2vec</th>\n",
       "    </tr>\n",
       "  </thead>\n",
       "  <tbody>\n",
       "    <tr>\n",
       "      <th>0</th>\n",
       "      <td>1</td>\n",
       "      <td>Why do white women initiate divorce so much?</td>\n",
       "      <td>Why do women initiate the majority of divorces?</td>\n",
       "      <td>1</td>\n",
       "      <td>1</td>\n",
       "      <td>1</td>\n",
       "      <td>44</td>\n",
       "      <td>47</td>\n",
       "      <td>8</td>\n",
       "      <td>8</td>\n",
       "      <td>...</td>\n",
       "      <td>8.690568</td>\n",
       "      <td>1.0</td>\n",
       "      <td>125.797689</td>\n",
       "      <td>0.646990</td>\n",
       "      <td>0.294016</td>\n",
       "      <td>0.322897</td>\n",
       "      <td>0.110333</td>\n",
       "      <td>0.253555</td>\n",
       "      <td>-0.472383</td>\n",
       "      <td>0.007384</td>\n",
       "    </tr>\n",
       "    <tr>\n",
       "      <th>1</th>\n",
       "      <td>2</td>\n",
       "      <td>Is there a way on Quora to ask why a specific ...</td>\n",
       "      <td>All my questions on Quora need improvement. Wh...</td>\n",
       "      <td>1</td>\n",
       "      <td>3</td>\n",
       "      <td>17</td>\n",
       "      <td>87</td>\n",
       "      <td>92</td>\n",
       "      <td>17</td>\n",
       "      <td>18</td>\n",
       "      <td>...</td>\n",
       "      <td>6.874296</td>\n",
       "      <td>1.0</td>\n",
       "      <td>111.968110</td>\n",
       "      <td>0.508915</td>\n",
       "      <td>0.232597</td>\n",
       "      <td>0.255839</td>\n",
       "      <td>0.100403</td>\n",
       "      <td>-0.047450</td>\n",
       "      <td>-0.011347</td>\n",
       "      <td>-0.036685</td>\n",
       "    </tr>\n",
       "  </tbody>\n",
       "</table>\n",
       "<p>2 rows × 43 columns</p>\n",
       "</div>"
      ],
      "text/plain": [
       "   id                                          question1  \\\n",
       "0   1       Why do white women initiate divorce so much?   \n",
       "1   2  Is there a way on Quora to ask why a specific ...   \n",
       "\n",
       "                                           question2  is_duplicate  freq_qid1  \\\n",
       "0    Why do women initiate the majority of divorces?             1          1   \n",
       "1  All my questions on Quora need improvement. Wh...             1          3   \n",
       "\n",
       "   freq_qid2  q1len  q2len  q1_n_words  q2_n_words  ...  cityblock_distance  \\\n",
       "0          1     44     47           8           8  ...            8.690568   \n",
       "1         17     87     92          17          18  ...            6.874296   \n",
       "\n",
       "   jaccard_distance  canberra_distance  euclidean_distance  \\\n",
       "0               1.0         125.797689            0.646990   \n",
       "1               1.0         111.968110            0.508915   \n",
       "\n",
       "   minkowski_distance  braycurtis_distance  skew_q1vec  skew_q2vec  kur_q1vec  \\\n",
       "0            0.294016             0.322897    0.110333    0.253555  -0.472383   \n",
       "1            0.232597             0.255839    0.100403   -0.047450  -0.011347   \n",
       "\n",
       "   kur_q2vec  \n",
       "0   0.007384  \n",
       "1  -0.036685  \n",
       "\n",
       "[2 rows x 43 columns]"
      ]
     },
     "execution_count": 4,
     "metadata": {},
     "output_type": "execute_result"
    }
   ],
   "source": [
    "data.head(2)"
   ]
  },
  {
   "cell_type": "code",
   "execution_count": 5,
   "metadata": {},
   "outputs": [
    {
     "name": "stdout",
     "output_type": "stream",
     "text": [
      "Empty DataFrame\n",
      "Columns: [id, question1, question2, is_duplicate, freq_qid1, freq_qid2, q1len, q2len, q1_n_words, q2_n_words, word_Common, word_Total, word_share, freq_q1+q2, freq_q1-q2, cwc_min, cwc_max, csc_min, csc_max, ctc_min, ctc_max, last_word_eq, first_word_eq, abs_len_diff, mean_len, token_set_ratio, token_sort_ratio, fuzz_ratio, fuzz_partial_ratio, longest_substr_ratio, wmd, norm_wmd, cosine_distance, cityblock_distance, jaccard_distance, canberra_distance, euclidean_distance, minkowski_distance, braycurtis_distance, skew_q1vec, skew_q2vec, kur_q1vec, kur_q2vec]\n",
      "Index: []\n",
      "\n",
      "[0 rows x 43 columns]\n"
     ]
    }
   ],
   "source": [
    "nan_rows = data[data.isnull().any(1)]\n",
    "print (nan_rows)"
   ]
  },
  {
   "cell_type": "code",
   "execution_count": null,
   "metadata": {},
   "outputs": [],
   "source": []
  },
  {
   "cell_type": "code",
   "execution_count": 6,
   "metadata": {},
   "outputs": [],
   "source": [
    "# Drop unnecessary question1 and question2 columns from \"data\" \n",
    "data.drop(['question1','question2'], axis=1, inplace=True)"
   ]
  },
  {
   "cell_type": "code",
   "execution_count": 7,
   "metadata": {},
   "outputs": [
    {
     "data": {
      "text/html": [
       "<div>\n",
       "<style scoped>\n",
       "    .dataframe tbody tr th:only-of-type {\n",
       "        vertical-align: middle;\n",
       "    }\n",
       "\n",
       "    .dataframe tbody tr th {\n",
       "        vertical-align: top;\n",
       "    }\n",
       "\n",
       "    .dataframe thead th {\n",
       "        text-align: right;\n",
       "    }\n",
       "</style>\n",
       "<table border=\"1\" class=\"dataframe\">\n",
       "  <thead>\n",
       "    <tr style=\"text-align: right;\">\n",
       "      <th></th>\n",
       "      <th>id</th>\n",
       "      <th>is_duplicate</th>\n",
       "      <th>freq_qid1</th>\n",
       "      <th>freq_qid2</th>\n",
       "      <th>q1len</th>\n",
       "      <th>q2len</th>\n",
       "      <th>q1_n_words</th>\n",
       "      <th>q2_n_words</th>\n",
       "      <th>word_Common</th>\n",
       "      <th>word_Total</th>\n",
       "      <th>...</th>\n",
       "      <th>cityblock_distance</th>\n",
       "      <th>jaccard_distance</th>\n",
       "      <th>canberra_distance</th>\n",
       "      <th>euclidean_distance</th>\n",
       "      <th>minkowski_distance</th>\n",
       "      <th>braycurtis_distance</th>\n",
       "      <th>skew_q1vec</th>\n",
       "      <th>skew_q2vec</th>\n",
       "      <th>kur_q1vec</th>\n",
       "      <th>kur_q2vec</th>\n",
       "    </tr>\n",
       "  </thead>\n",
       "  <tbody>\n",
       "    <tr>\n",
       "      <th>0</th>\n",
       "      <td>1</td>\n",
       "      <td>1</td>\n",
       "      <td>1</td>\n",
       "      <td>1</td>\n",
       "      <td>44</td>\n",
       "      <td>47</td>\n",
       "      <td>8</td>\n",
       "      <td>8</td>\n",
       "      <td>4</td>\n",
       "      <td>16</td>\n",
       "      <td>...</td>\n",
       "      <td>8.690568</td>\n",
       "      <td>1.0</td>\n",
       "      <td>125.797689</td>\n",
       "      <td>0.646990</td>\n",
       "      <td>0.294016</td>\n",
       "      <td>0.322897</td>\n",
       "      <td>0.110333</td>\n",
       "      <td>0.253555</td>\n",
       "      <td>-0.472383</td>\n",
       "      <td>0.007384</td>\n",
       "    </tr>\n",
       "    <tr>\n",
       "      <th>1</th>\n",
       "      <td>2</td>\n",
       "      <td>1</td>\n",
       "      <td>3</td>\n",
       "      <td>17</td>\n",
       "      <td>87</td>\n",
       "      <td>92</td>\n",
       "      <td>17</td>\n",
       "      <td>18</td>\n",
       "      <td>8</td>\n",
       "      <td>33</td>\n",
       "      <td>...</td>\n",
       "      <td>6.874296</td>\n",
       "      <td>1.0</td>\n",
       "      <td>111.968110</td>\n",
       "      <td>0.508915</td>\n",
       "      <td>0.232597</td>\n",
       "      <td>0.255839</td>\n",
       "      <td>0.100403</td>\n",
       "      <td>-0.047450</td>\n",
       "      <td>-0.011347</td>\n",
       "      <td>-0.036685</td>\n",
       "    </tr>\n",
       "  </tbody>\n",
       "</table>\n",
       "<p>2 rows × 41 columns</p>\n",
       "</div>"
      ],
      "text/plain": [
       "   id  is_duplicate  freq_qid1  freq_qid2  q1len  q2len  q1_n_words  \\\n",
       "0   1             1          1          1     44     47           8   \n",
       "1   2             1          3         17     87     92          17   \n",
       "\n",
       "   q2_n_words  word_Common  word_Total  ...  cityblock_distance  \\\n",
       "0           8            4          16  ...            8.690568   \n",
       "1          18            8          33  ...            6.874296   \n",
       "\n",
       "   jaccard_distance  canberra_distance  euclidean_distance  \\\n",
       "0               1.0         125.797689            0.646990   \n",
       "1               1.0         111.968110            0.508915   \n",
       "\n",
       "   minkowski_distance  braycurtis_distance  skew_q1vec  skew_q2vec  kur_q1vec  \\\n",
       "0            0.294016             0.322897    0.110333    0.253555  -0.472383   \n",
       "1            0.232597             0.255839    0.100403   -0.047450  -0.011347   \n",
       "\n",
       "   kur_q2vec  \n",
       "0   0.007384  \n",
       "1  -0.036685  \n",
       "\n",
       "[2 rows x 41 columns]"
      ]
     },
     "execution_count": 7,
     "metadata": {},
     "output_type": "execute_result"
    }
   ],
   "source": [
    "data.head(2)"
   ]
  },
  {
   "cell_type": "code",
   "execution_count": 8,
   "metadata": {},
   "outputs": [
    {
     "data": {
      "text/plain": [
       "196433"
      ]
     },
     "execution_count": 8,
     "metadata": {},
     "output_type": "execute_result"
    }
   ],
   "source": [
    "data.shape[0]"
   ]
  },
  {
   "cell_type": "code",
   "execution_count": 9,
   "metadata": {},
   "outputs": [],
   "source": [
    "y_true = data['is_duplicate']\n",
    "\n",
    "data.drop(['id','is_duplicate'], axis=1, inplace=True)"
   ]
  },
  {
   "cell_type": "code",
   "execution_count": 10,
   "metadata": {
    "scrolled": true
   },
   "outputs": [
    {
     "data": {
      "text/html": [
       "<div>\n",
       "<style scoped>\n",
       "    .dataframe tbody tr th:only-of-type {\n",
       "        vertical-align: middle;\n",
       "    }\n",
       "\n",
       "    .dataframe tbody tr th {\n",
       "        vertical-align: top;\n",
       "    }\n",
       "\n",
       "    .dataframe thead th {\n",
       "        text-align: right;\n",
       "    }\n",
       "</style>\n",
       "<table border=\"1\" class=\"dataframe\">\n",
       "  <thead>\n",
       "    <tr style=\"text-align: right;\">\n",
       "      <th></th>\n",
       "      <th>freq_qid1</th>\n",
       "      <th>freq_qid2</th>\n",
       "      <th>q1len</th>\n",
       "      <th>q2len</th>\n",
       "      <th>q1_n_words</th>\n",
       "      <th>q2_n_words</th>\n",
       "      <th>word_Common</th>\n",
       "      <th>word_Total</th>\n",
       "      <th>word_share</th>\n",
       "      <th>freq_q1+q2</th>\n",
       "      <th>...</th>\n",
       "      <th>cityblock_distance</th>\n",
       "      <th>jaccard_distance</th>\n",
       "      <th>canberra_distance</th>\n",
       "      <th>euclidean_distance</th>\n",
       "      <th>minkowski_distance</th>\n",
       "      <th>braycurtis_distance</th>\n",
       "      <th>skew_q1vec</th>\n",
       "      <th>skew_q2vec</th>\n",
       "      <th>kur_q1vec</th>\n",
       "      <th>kur_q2vec</th>\n",
       "    </tr>\n",
       "  </thead>\n",
       "  <tbody>\n",
       "    <tr>\n",
       "      <th>0</th>\n",
       "      <td>1</td>\n",
       "      <td>1</td>\n",
       "      <td>44</td>\n",
       "      <td>47</td>\n",
       "      <td>8</td>\n",
       "      <td>8</td>\n",
       "      <td>4</td>\n",
       "      <td>16</td>\n",
       "      <td>0.250000</td>\n",
       "      <td>2</td>\n",
       "      <td>...</td>\n",
       "      <td>8.690568</td>\n",
       "      <td>1.0</td>\n",
       "      <td>125.797689</td>\n",
       "      <td>0.646990</td>\n",
       "      <td>0.294016</td>\n",
       "      <td>0.322897</td>\n",
       "      <td>0.110333</td>\n",
       "      <td>0.253555</td>\n",
       "      <td>-0.472383</td>\n",
       "      <td>0.007384</td>\n",
       "    </tr>\n",
       "    <tr>\n",
       "      <th>1</th>\n",
       "      <td>3</td>\n",
       "      <td>17</td>\n",
       "      <td>87</td>\n",
       "      <td>92</td>\n",
       "      <td>17</td>\n",
       "      <td>18</td>\n",
       "      <td>8</td>\n",
       "      <td>33</td>\n",
       "      <td>0.242424</td>\n",
       "      <td>20</td>\n",
       "      <td>...</td>\n",
       "      <td>6.874296</td>\n",
       "      <td>1.0</td>\n",
       "      <td>111.968110</td>\n",
       "      <td>0.508915</td>\n",
       "      <td>0.232597</td>\n",
       "      <td>0.255839</td>\n",
       "      <td>0.100403</td>\n",
       "      <td>-0.047450</td>\n",
       "      <td>-0.011347</td>\n",
       "      <td>-0.036685</td>\n",
       "    </tr>\n",
       "  </tbody>\n",
       "</table>\n",
       "<p>2 rows × 39 columns</p>\n",
       "</div>"
      ],
      "text/plain": [
       "   freq_qid1  freq_qid2  q1len  q2len  q1_n_words  q2_n_words  word_Common  \\\n",
       "0          1          1     44     47           8           8            4   \n",
       "1          3         17     87     92          17          18            8   \n",
       "\n",
       "   word_Total  word_share  freq_q1+q2  ...  cityblock_distance  \\\n",
       "0          16    0.250000           2  ...            8.690568   \n",
       "1          33    0.242424          20  ...            6.874296   \n",
       "\n",
       "   jaccard_distance  canberra_distance  euclidean_distance  \\\n",
       "0               1.0         125.797689            0.646990   \n",
       "1               1.0         111.968110            0.508915   \n",
       "\n",
       "   minkowski_distance  braycurtis_distance  skew_q1vec  skew_q2vec  kur_q1vec  \\\n",
       "0            0.294016             0.322897    0.110333    0.253555  -0.472383   \n",
       "1            0.232597             0.255839    0.100403   -0.047450  -0.011347   \n",
       "\n",
       "   kur_q2vec  \n",
       "0   0.007384  \n",
       "1  -0.036685  \n",
       "\n",
       "[2 rows x 39 columns]"
      ]
     },
     "execution_count": 10,
     "metadata": {},
     "output_type": "execute_result"
    }
   ],
   "source": [
    "data.head(2)"
   ]
  },
  {
   "cell_type": "code",
   "execution_count": 11,
   "metadata": {},
   "outputs": [],
   "source": [
    "#features= list(data.columns) \n",
    "#print(features)\n",
    "\n",
    "#npmax= np.max(abs(data))\n",
    "#print(npmax)\n",
    "#npmax= np.where(np.isnan(data))\n",
    "#print(npmax)"
   ]
  },
  {
   "cell_type": "markdown",
   "metadata": {},
   "source": [
    "<h2> 5.3 Random train test split( 70:30) </h2>"
   ]
  },
  {
   "cell_type": "code",
   "execution_count": 12,
   "metadata": {
    "scrolled": false
   },
   "outputs": [
    {
     "name": "stdout",
     "output_type": "stream",
     "text": [
      "        freq_qid1  freq_qid2     q1len     q2len  q1_n_words  q2_n_words  \\\n",
      "0       -0.410741  -0.344466 -0.547312 -0.409319   -0.571549   -0.526573   \n",
      "1        0.030339   2.303063  0.897705  0.916559    1.096633    1.052211   \n",
      "2       -0.410741  -0.344466 -0.480102 -0.114680   -0.386195    0.104941   \n",
      "3       -0.410741  -0.344466 -0.446497 -0.468247   -0.571549   -0.526573   \n",
      "4       -0.410741  -0.344466 -0.580918  0.562991   -0.571549    0.104941   \n",
      "...           ...        ...       ...       ...         ...         ...   \n",
      "196428  -0.190201  -0.344466  3.048430  1.122806    2.394107    0.894333   \n",
      "196429  -0.410741  -0.344466 -0.681733 -0.320928   -0.756902   -0.684451   \n",
      "196430   1.133041   0.317416 -0.043237 -0.291464    0.355219   -0.210816   \n",
      "196431  -0.410741  -0.178996 -1.084994 -0.792351   -1.127609   -0.684451   \n",
      "196432  -0.190201  -0.178996 -0.480102 -0.350391   -0.571549   -0.526573   \n",
      "\n",
      "        word_Common  word_Total  word_share  freq_q1+q2  ...  \\\n",
      "0         -0.187430   -0.632790    0.202507   -0.430560  ...   \n",
      "1          1.099767    1.361168    0.143476    1.534388  ...   \n",
      "2          0.456169   -0.046332    0.480798   -0.430560  ...   \n",
      "3          0.456169   -0.632790    1.176524   -0.430560  ...   \n",
      "4         -0.187430   -0.280915   -0.105077   -0.430560  ...   \n",
      "...             ...         ...         ...         ...  ...   \n",
      "196428    -0.831028    1.361168   -1.273276   -0.321397  ...   \n",
      "196429     0.134370   -0.867374    1.037378   -0.430560  ...   \n",
      "196430     0.456169    0.070960    0.379601    0.770241  ...   \n",
      "196431    -1.152827   -1.101957   -1.096182   -0.321397  ...   \n",
      "196432    -0.187430   -0.632790    0.202507   -0.212233  ...   \n",
      "\n",
      "        cityblock_distance  jaccard_distance  canberra_distance  \\\n",
      "0                -0.110411          0.270944          -0.120435   \n",
      "1                -0.536192          0.270944          -0.412653   \n",
      "2                 0.258544          0.270944           0.310276   \n",
      "3                -0.959362          0.270944          -0.719683   \n",
      "4                 0.376353          0.270944           0.482984   \n",
      "...                    ...               ...                ...   \n",
      "196428            1.035412          0.270944           0.894350   \n",
      "196429           -0.167200          0.270944          -0.063946   \n",
      "196430           -0.389599          0.270944          -0.174143   \n",
      "196431            0.045412          0.270944           0.292318   \n",
      "196432            0.279953          0.270944           0.413238   \n",
      "\n",
      "        euclidean_distance  minkowski_distance  braycurtis_distance  \\\n",
      "0                -0.049398           -0.033946            -0.229084   \n",
      "1                -0.497438           -0.475514            -0.572401   \n",
      "2                 0.276967            0.302532             0.151338   \n",
      "3                -0.958763           -0.954518            -0.935784   \n",
      "4                 0.357814            0.355826             0.298071   \n",
      "...                    ...                 ...                  ...   \n",
      "196428            1.004357            0.979004             0.959993   \n",
      "196429           -0.173842           -0.188724            -0.264218   \n",
      "196430           -0.380405           -0.375080            -0.441413   \n",
      "196431            0.010997            0.001562            -0.020222   \n",
      "196432            0.278893            0.259204             0.215905   \n",
      "\n",
      "        skew_q1vec  skew_q2vec  kur_q1vec  kur_q2vec  \n",
      "0         0.737928    1.800417  -1.580109   0.231636  \n",
      "1         0.664597   -0.430327   0.154148   0.064780  \n",
      "2        -0.687928   -1.658734  -1.270991   0.346946  \n",
      "3        -0.558599   -0.175095   0.397361  -0.036744  \n",
      "4        -0.190415   -0.477304  -0.741107  -0.131531  \n",
      "...            ...         ...        ...        ...  \n",
      "196428   -0.086606    0.815509  -0.128235   1.322224  \n",
      "196429   -0.084786    0.968775  -0.306834  -1.014652  \n",
      "196430   -0.001176    0.659561  -0.836768  -0.343839  \n",
      "196431    0.409469   -0.595490  -0.457181   0.330953  \n",
      "196432   -0.808017    0.162623   1.376918   2.115762  \n",
      "\n",
      "[196433 rows x 39 columns]\n"
     ]
    }
   ],
   "source": [
    "from sklearn.preprocessing import StandardScaler\n",
    "scaler= StandardScaler().fit(data)\n",
    "StandardizeData= scaler.transform(data)\n",
    "StandardizeData= pd.DataFrame(StandardizeData, index= data.index, columns= data.columns)\n",
    "#data = pd.DataFrame(features)#, columns = col_names)\n",
    "\n",
    "print(StandardizeData)"
   ]
  },
  {
   "cell_type": "code",
   "execution_count": 13,
   "metadata": {},
   "outputs": [],
   "source": [
    "#npmax= np.where(np.isinf(StandardizeData))\n",
    "#print(npmax)\n",
    "\n",
    "#nan_rows = StandardizeData[StandardizeData.isnull().any(1)]\n",
    "#print (nan_rows)"
   ]
  },
  {
   "cell_type": "code",
   "execution_count": 14,
   "metadata": {},
   "outputs": [],
   "source": [
    "#StandardizeData = StandardizeData[pd.notnull(StandardizeData['EPS'])]\n",
    "\n",
    "#StandardizeData = StandardizeData[StandardizeData['EPS'].notna()]"
   ]
  },
  {
   "cell_type": "code",
   "execution_count": 15,
   "metadata": {},
   "outputs": [],
   "source": [
    "X_train,X_test, y_train, y_test = train_test_split(StandardizeData, y_true, stratify=y_true, test_size=0.3)"
   ]
  },
  {
   "cell_type": "code",
   "execution_count": 16,
   "metadata": {},
   "outputs": [
    {
     "name": "stdout",
     "output_type": "stream",
     "text": [
      "Number of data points in train data : (137503, 39)\n",
      "Number of data points in test data : (58930, 39)\n"
     ]
    }
   ],
   "source": [
    "print(\"Number of data points in train data :\",X_train.shape)\n",
    "print(\"Number of data points in test data :\",X_test.shape)"
   ]
  },
  {
   "cell_type": "code",
   "execution_count": 17,
   "metadata": {},
   "outputs": [
    {
     "name": "stdout",
     "output_type": "stream",
     "text": [
      "---------- Distribution of output variable in train data ----------\n",
      "Class 0:  0.6256808942350349 Class 1:  0.37431910576496513\n",
      "---------- Distribution of output variable in test data ----------\n",
      "Class 0:  0.3743085016120821 Class 1:  0.3743085016120821\n"
     ]
    }
   ],
   "source": [
    "print(\"-\"*10, \"Distribution of output variable in train data\", \"-\"*10)\n",
    "train_distr = Counter(y_train)\n",
    "train_len = len(y_train)\n",
    "print(\"Class 0: \",int(train_distr[0])/train_len,\"Class 1: \", int(train_distr[1])/train_len)\n",
    "print(\"-\"*10, \"Distribution of output variable in test data\", \"-\"*10)\n",
    "test_distr = Counter(y_test)\n",
    "test_len = len(y_test)\n",
    "print(\"Class 0: \",int(test_distr[1])/test_len, \"Class 1: \",int(test_distr[1])/test_len)"
   ]
  },
  {
   "cell_type": "markdown",
   "metadata": {},
   "source": [
    "<h3> 5.4 Plot the confusion_matrix and call this function when we need </h2>"
   ]
  },
  {
   "cell_type": "code",
   "execution_count": 18,
   "metadata": {},
   "outputs": [],
   "source": [
    "# This function plots the confusion matrices given y_i, y_i_hat.\n",
    "def plot_confusion_matrix(test_y, predict_y):\n",
    "    C = confusion_matrix(test_y, predict_y)\n",
    "    \n",
    "    A =(((C.T)/(C.sum(axis=1))).T)\n",
    "    \n",
    "    B =(C/C.sum(axis=0))\n",
    "    \n",
    "    plt.figure(figsize=(20,4))\n",
    "    \n",
    "    labels = [1,2]\n",
    "    # representing A in heatmap format\n",
    "    cmap=sns.light_palette(\"blue\")\n",
    "    plt.subplot(1, 3, 1)\n",
    "    sns.heatmap(C, annot=True, cmap=cmap, fmt=\".3f\", xticklabels=labels, yticklabels=labels)\n",
    "    plt.xlabel('Predicted Class')\n",
    "    plt.ylabel('Original Class')\n",
    "    plt.title(\"Confusion matrix\")\n",
    "    \n",
    "    plt.subplot(1, 3, 2)\n",
    "    sns.heatmap(B, annot=True, cmap=cmap, fmt=\".3f\", xticklabels=labels, yticklabels=labels)\n",
    "    plt.xlabel('Predicted Class')\n",
    "    plt.ylabel('Original Class')\n",
    "    plt.title(\"Precision matrix\")\n",
    "    \n",
    "    plt.subplot(1, 3, 3)\n",
    "    # representing B in heatmap format\n",
    "    sns.heatmap(A, annot=True, cmap=cmap, fmt=\".3f\", xticklabels=labels, yticklabels=labels)\n",
    "    plt.xlabel('Predicted Class')\n",
    "    plt.ylabel('Original Class')\n",
    "    plt.title(\"Recall matrix\")\n",
    "    \n",
    "    plt.show()"
   ]
  },
  {
   "cell_type": "markdown",
   "metadata": {},
   "source": [
    "<h2> 5.5 Building a random model (Finding worst-case log-loss) </h2>"
   ]
  },
  {
   "cell_type": "code",
   "execution_count": 19,
   "metadata": {},
   "outputs": [
    {
     "name": "stdout",
     "output_type": "stream",
     "text": [
      "Log loss on Test Data using Random Model 0.8868882674346896\n"
     ]
    },
    {
     "data": {
      "image/png": "[encoded data removed]",
      "text/plain": [
       "<Figure size 1440x288 with 6 Axes>"
      ]
     },
     "metadata": {
      "needs_background": "light"
     },
     "output_type": "display_data"
    }
   ],
   "source": [
    "predicted_y = np.zeros((test_len,2))\n",
    "for i in range(test_len):\n",
    "    rand_probs = np.random.rand(1,2)\n",
    "    predicted_y[i] = ((rand_probs/sum(sum(rand_probs)))[0])\n",
    "print(\"Log loss on Test Data using Random Model\",log_loss(y_test, predicted_y, eps=1e-15))\n",
    "\n",
    "predicted_y =np.argmax(predicted_y, axis=1)\n",
    "plot_confusion_matrix(y_test, predicted_y)"
   ]
  },
  {
   "cell_type": "markdown",
   "metadata": {},
   "source": [
    "<h2> 5.6 Logistic Regression with hyperparameter tuning </h2>"
   ]
  },
  {
   "cell_type": "code",
   "execution_count": 264,
   "metadata": {},
   "outputs": [
    {
     "name": "stdout",
     "output_type": "stream",
     "text": [
      "For values of alpha =  1e-05 The log loss is: 0.4163610956433371\n",
      "For values of alpha =  0.0001 The log loss is: 0.4089648307889474\n",
      "For values of alpha =  0.001 The log loss is: 0.4089677360420138\n",
      "For values of alpha =  0.01 The log loss is: 0.4248822562082028\n",
      "For values of alpha =  0.1 The log loss is: 0.4646436341579551\n",
      "For values of alpha =  1 The log loss is: 0.5131876989915896\n",
      "For values of alpha =  10 The log loss is: 0.5399326087019145\n"
     ]
    },
    {
     "data": {
      "image/png": "[encoded data removed]",
      "text/plain": [
       "<Figure size 432x288 with 1 Axes>"
      ]
     },
     "metadata": {
      "needs_background": "light"
     },
     "output_type": "display_data"
    },
    {
     "name": "stdout",
     "output_type": "stream",
     "text": [
      "For values of best alpha =  0.0001 The train log loss is: 0.4047327488942188\n",
      "For values of best alpha =  0.0001 The test log loss is: 0.4089648307889474\n",
      "Total number of data points : 58930\n"
     ]
    },
    {
     "data": {
      "image/png": "[encoded data removed]",
      "text/plain": [
       "<Figure size 1440x288 with 6 Axes>"
      ]
     },
     "metadata": {
      "needs_background": "light"
     },
     "output_type": "display_data"
    }
   ],
   "source": [
    "alpha = [10 ** x for x in range(-5, 2)] # hyperparam for SGD classifier.\n",
    "\n",
    "log_error_array=[]\n",
    "for i in alpha:\n",
    "    clf = SGDClassifier(alpha=i, penalty='l2', loss='log', random_state=42)\n",
    "    clf.fit(X_train, y_train)\n",
    "    sig_clf = CalibratedClassifierCV(clf, method=\"sigmoid\")\n",
    "    sig_clf.fit(X_train, y_train)\n",
    "    predict_y = sig_clf.predict_proba(X_test)\n",
    "    log_error_array.append(log_loss(y_test, predict_y, labels=clf.classes_, eps=1e-15))\n",
    "    print('For values of alpha = ', i, \"The log loss is:\",log_loss(y_test, predict_y, labels=clf.classes_, eps=1e-15))\n",
    "\n",
    "fig, ax = plt.subplots()\n",
    "ax.plot(alpha, log_error_array,c='g')\n",
    "for i, txt in enumerate(np.round(log_error_array,3)):\n",
    "    ax.annotate((alpha[i],np.round(txt,3)), (alpha[i],log_error_array[i]))\n",
    "plt.grid()\n",
    "plt.title(\"Cross Validation Error for each alpha\")\n",
    "plt.xlabel(\"Alpha i's\")\n",
    "plt.ylabel(\"Error measure\")\n",
    "plt.show()\n",
    "\n",
    "\n",
    "best_alpha = np.argmin(log_error_array)\n",
    "clf = SGDClassifier(alpha=alpha[best_alpha], penalty='l2', loss='log', random_state=42)\n",
    "clf.fit(X_train, y_train)\n",
    "sig_clf = CalibratedClassifierCV(clf, method=\"sigmoid\")\n",
    "sig_clf.fit(X_train, y_train)\n",
    "\n",
    "predict_y = sig_clf.predict_proba(X_train)\n",
    "print('For values of best alpha = ', alpha[best_alpha], \"The train log loss is:\",log_loss(y_train, predict_y, labels=clf.classes_, eps=1e-15))\n",
    "predict_y = sig_clf.predict_proba(X_test)\n",
    "print('For values of best alpha = ', alpha[best_alpha], \"The test log loss is:\",log_loss(y_test, predict_y, labels=clf.classes_, eps=1e-15))\n",
    "predicted_y =np.argmax(predict_y,axis=1)\n",
    "print(\"Total number of data points :\", len(predicted_y))\n",
    "plot_confusion_matrix(y_test, predicted_y)"
   ]
  },
  {
   "cell_type": "markdown",
   "metadata": {},
   "source": [
    "<h2> 5.7 Linear SVM with hyperparameter tuning </h2>"
   ]
  },
  {
   "cell_type": "code",
   "execution_count": 265,
   "metadata": {},
   "outputs": [
    {
     "name": "stdout",
     "output_type": "stream",
     "text": [
      "For values of alpha =  1e-05 The log loss is: 0.42500241257941684\n",
      "For values of alpha =  0.0001 The log loss is: 0.4187505133840204\n",
      "For values of alpha =  0.001 The log loss is: 0.4211436636887012\n",
      "For values of alpha =  0.01 The log loss is: 0.43054913141970663\n",
      "For values of alpha =  0.1 The log loss is: 0.5144980872242297\n",
      "For values of alpha =  1 The log loss is: 0.6612089829555492\n",
      "For values of alpha =  10 The log loss is: 0.661208982955549\n"
     ]
    },
    {
     "data": {
      "image/png": "[encoded data removed]",
      "text/plain": [
       "<Figure size 432x288 with 1 Axes>"
      ]
     },
     "metadata": {
      "needs_background": "light"
     },
     "output_type": "display_data"
    },
    {
     "name": "stdout",
     "output_type": "stream",
     "text": [
      "For values of best alpha =  0.0001 The train log loss is: 0.41546302987316697\n",
      "For values of best alpha =  0.0001 The test log loss is: 0.4187505133840204\n",
      "Total number of data points : 58930\n"
     ]
    },
    {
     "data": {
      "image/png": "[encoded data removed]",
      "text/plain": [
       "<Figure size 1440x288 with 6 Axes>"
      ]
     },
     "metadata": {
      "needs_background": "light"
     },
     "output_type": "display_data"
    }
   ],
   "source": [
    "from warnings import simplefilter\n",
    "from sklearn.exceptions import ConvergenceWarning\n",
    "simplefilter(\"ignore\", category=ConvergenceWarning)\n",
    "    \n",
    "\n",
    "alpha = [10 ** x for x in range(-5, 2)] # hyperparam for SGD classifier.\n",
    "\n",
    "log_error_array=[]\n",
    "for i in alpha:\n",
    "    clf = SGDClassifier(alpha=i, penalty='l1', loss='hinge',max_iter=1000, random_state=42)\n",
    "    clf.fit(X_train, y_train)\n",
    "    sig_clf = CalibratedClassifierCV(clf, method=\"sigmoid\")\n",
    "    sig_clf.fit(X_train, y_train)\n",
    "    predict_y = sig_clf.predict_proba(X_test)\n",
    "    log_error_array.append(log_loss(y_test, predict_y, labels=clf.classes_, eps=1e-15))\n",
    "    print('For values of alpha = ', i, \"The log loss is:\",log_loss(y_test, predict_y, labels=clf.classes_, eps=1e-15))\n",
    "\n",
    "fig, ax = plt.subplots()\n",
    "ax.plot(alpha, log_error_array,c='g')\n",
    "for i, txt in enumerate(np.round(log_error_array,3)):\n",
    "    ax.annotate((alpha[i],np.round(txt,3)), (alpha[i],log_error_array[i]))\n",
    "plt.grid()\n",
    "plt.title(\"Cross Validation Error for each alpha\")\n",
    "plt.xlabel(\"Alpha i's\")\n",
    "plt.ylabel(\"Error measure\")\n",
    "plt.show()\n",
    "\n",
    "\n",
    "best_alpha = np.argmin(log_error_array)\n",
    "clf = SGDClassifier(alpha=alpha[best_alpha], penalty='l1', loss='hinge', random_state=42)\n",
    "clf.fit(X_train, y_train)\n",
    "sig_clf = CalibratedClassifierCV(clf, method=\"sigmoid\")\n",
    "sig_clf.fit(X_train, y_train)\n",
    "\n",
    "predict_y = sig_clf.predict_proba(X_train)\n",
    "print('For values of best alpha = ', alpha[best_alpha], \"The train log loss is:\",log_loss(y_train, predict_y, labels=clf.classes_, eps=1e-15))\n",
    "predict_y = sig_clf.predict_proba(X_test)\n",
    "print('For values of best alpha = ', alpha[best_alpha], \"The test log loss is:\",log_loss(y_test, predict_y, labels=clf.classes_, eps=1e-15))\n",
    "predicted_y =np.argmax(predict_y,axis=1)\n",
    "print(\"Total number of data points :\", len(predicted_y))\n",
    "plot_confusion_matrix(y_test, predicted_y)"
   ]
  },
  {
   "cell_type": "markdown",
   "metadata": {},
   "source": [
    "<h2> 5.8 Applying XGBoost with hyperparameter tuning using RandomsearchCV </h2>"
   ]
  },
  {
   "cell_type": "code",
   "execution_count": 20,
   "metadata": {},
   "outputs": [],
   "source": [
    "## For Hyper Parameter Optimization\n",
    "\n",
    "param_grid = {\n",
    "        'max_depth': [6, 10, 15, 20],\n",
    "        'learning_rate': [0.001, 0.01, 0.1, 0.2, 0.3, 0.5],\n",
    "        'subsample': [0.5, 0.6, 0.7, 0.8, 0.9, 1.0],\n",
    "        'colsample_bytree': [0.4, 0.5, 0.6, 0.7, 0.8, 0.9, 1.0],\n",
    "        'min_child_weight': [0.5, 1.0, 3.0, 5.0, 7.0, 10.0],\n",
    "        'gamma': [0, 0.25, 0.5, 1.0],\n",
    "        'n_estimators': [50,100,150,200,300,400,500]}\n",
    "\n",
    "def timer(start_time=None):\n",
    "    if not start_time:\n",
    "        start_time = datetime.now()\n",
    "        return start_time\n",
    "    elif start_time:\n",
    "        thour, temp_sec = divmod((datetime.now() - start_time).total_seconds(), 3600)\n",
    "        tmin, tsec = divmod(temp_sec, 60)\n",
    "        print('\\n Time taken: %i hours %i minutes and %s seconds.' % (thour, tmin, round(tsec, 2)))\n",
    "\n",
    "        \n",
    "clf = xgb.XGBClassifier(nthread=-1)\n",
    "\n",
    "kfold = StratifiedKFold(n_splits=5, shuffle=True)\n",
    "random_search=RandomizedSearchCV(clf,param_distributions=param_grid,n_iter=5,scoring='neg_log_loss',n_jobs=-1,cv=kfold,verbose=3,random_state=42)\n"
   ]
  },
  {
   "cell_type": "code",
   "execution_count": 21,
   "metadata": {},
   "outputs": [
    {
     "name": "stdout",
     "output_type": "stream",
     "text": [
      "Fitting 5 folds for each of 5 candidates, totalling 25 fits\n"
     ]
    },
    {
     "name": "stderr",
     "output_type": "stream",
     "text": [
      "[Parallel(n_jobs=-1)]: Using backend LokyBackend with 12 concurrent workers.\n",
      "[Parallel(n_jobs=-1)]: Done  11 out of  25 | elapsed: 11.9min remaining: 15.2min\n",
      "[Parallel(n_jobs=-1)]: Done  20 out of  25 | elapsed: 14.5min remaining:  3.6min\n",
      "[Parallel(n_jobs=-1)]: Done  25 out of  25 | elapsed: 21.2min finished\n"
     ]
    },
    {
     "name": "stdout",
     "output_type": "stream",
     "text": [
      "\n",
      " Time taken: 0 hours 22 minutes and 36.8 seconds.\n"
     ]
    }
   ],
   "source": [
    "from datetime import datetime\n",
    "# Here we go\n",
    "start_time = timer(None) # timing starts from this point for \"start_time\" variable\n",
    "\n",
    "random_search.fit(X_train, y_train)\n",
    "\n",
    "timer(start_time) # timing ends here for \"start_time\" variable"
   ]
  },
  {
   "cell_type": "code",
   "execution_count": 22,
   "metadata": {},
   "outputs": [
    {
     "name": "stdout",
     "output_type": "stream",
     "text": [
      "Best Score is: -0.336275 from using these combination of param_grid: {'subsample': 1.0, 'n_estimators': 400, 'min_child_weight': 7.0, 'max_depth': 15, 'learning_rate': 0.01, 'gamma': 0, 'colsample_bytree': 1.0}\n",
      "\n",
      "mean : -0.543048, std : (0.001112) with param_grid : {'subsample': 0.7, 'n_estimators': 400, 'min_child_weight': 10.0, 'max_depth': 20, 'learning_rate': 0.001, 'gamma': 0, 'colsample_bytree': 0.9}\n",
      "mean : -0.336275, std : (0.003963) with param_grid : {'subsample': 1.0, 'n_estimators': 400, 'min_child_weight': 7.0, 'max_depth': 15, 'learning_rate': 0.01, 'gamma': 0, 'colsample_bytree': 1.0}\n",
      "mean : -0.386254, std : (0.007723) with param_grid : {'subsample': 0.9, 'n_estimators': 100, 'min_child_weight': 5.0, 'max_depth': 20, 'learning_rate': 0.3, 'gamma': 0.25, 'colsample_bytree': 0.9}\n",
      "mean : -0.517357, std : (0.001350) with param_grid : {'subsample': 0.7, 'n_estimators': 500, 'min_child_weight': 3.0, 'max_depth': 20, 'learning_rate': 0.001, 'gamma': 0.25, 'colsample_bytree': 0.8}\n",
      "mean : -0.370329, std : (0.007633) with param_grid : {'subsample': 1.0, 'n_estimators': 100, 'min_child_weight': 7.0, 'max_depth': 20, 'learning_rate': 0.3, 'gamma': 1.0, 'colsample_bytree': 0.8}\n"
     ]
    }
   ],
   "source": [
    "# Summarize results\n",
    "print(\"Best Score is: %f from using these combination of param_grid: %s\"%(random_search.best_score_,random_search.best_params_))\n",
    "print()\n",
    "means = random_search.cv_results_['mean_test_score']\n",
    "stds = random_search.cv_results_['std_test_score']\n",
    "params = random_search.cv_results_['params']\n",
    "for mean, stdev, param in zip(means, stds, params):\n",
    "    print(\"mean : %f, std : (%f) with param_grid : %r\" % (mean, stdev, param))"
   ]
  },
  {
   "cell_type": "code",
   "execution_count": 23,
   "metadata": {},
   "outputs": [
    {
     "data": {
      "text/plain": [
       "XGBClassifier(base_score=0.5, booster='gbtree', colsample_bylevel=1,\n",
       "              colsample_bynode=1, colsample_bytree=1.0, gamma=0, gpu_id=-1,\n",
       "              importance_type='gain', interaction_constraints='',\n",
       "              learning_rate=0.01, max_delta_step=0, max_depth=15,\n",
       "              min_child_weight=7.0, missing=nan, monotone_constraints='()',\n",
       "              n_estimators=400, n_jobs=-1, nthread=-1, num_parallel_tree=1,\n",
       "              random_state=0, reg_alpha=0, reg_lambda=1, scale_pos_weight=1,\n",
       "              subsample=1.0, tree_method='exact', validate_parameters=1,\n",
       "              verbosity=None)"
      ]
     },
     "execution_count": 23,
     "metadata": {},
     "output_type": "execute_result"
    }
   ],
   "source": [
    "random_search.best_estimator_"
   ]
  },
  {
   "cell_type": "code",
   "execution_count": 24,
   "metadata": {},
   "outputs": [
    {
     "data": {
      "text/plain": [
       "{'subsample': 1.0,\n",
       " 'n_estimators': 400,\n",
       " 'min_child_weight': 7.0,\n",
       " 'max_depth': 15,\n",
       " 'learning_rate': 0.01,\n",
       " 'gamma': 0,\n",
       " 'colsample_bytree': 1.0}"
      ]
     },
     "execution_count": 24,
     "metadata": {},
     "output_type": "execute_result"
    }
   ],
   "source": [
    "random_search.best_params_"
   ]
  },
  {
   "cell_type": "markdown",
   "metadata": {},
   "source": [
    "<html>\n",
    "<body><b>\n",
    "<p style=\"color: #0099cc\">SO, After Applying XGBoost with hyperparameter tuning using RandomsearchCV I got the best parameter for best score. Now, I am going to apply this best parameter to XGBClassifier to getting best logg loss score.</p>\n",
    "</b></body>\n",
    "</html>"
   ]
  },
  {
   "cell_type": "code",
   "execution_count": 25,
   "metadata": {},
   "outputs": [
    {
     "name": "stdout",
     "output_type": "stream",
     "text": [
      "The train log loss is: 0.2465866826928993\n",
      "The test log loss is: 0.3351238484184\n",
      "Total number of data points : 58930\n"
     ]
    },
    {
     "data": {
      "image/png": "[encoded data removed]",
      "text/plain": [
       "<Figure size 1440x288 with 6 Axes>"
      ]
     },
     "metadata": {
      "needs_background": "light"
     },
     "output_type": "display_data"
    }
   ],
   "source": [
    "clf=xgb.XGBClassifier(n_jobs=-1,random_state=42,\n",
    "                      max_depth=15,\n",
    "                      n_estimators=400,\n",
    "                      subsample= 1.0, \n",
    "                      min_child_weight= 7.0,\n",
    "                      learning_rate= 0.01,\n",
    "                      gamma= 0,\n",
    "                      colsample_bytree= 1.0)\n",
    "clf.fit(X_train,y_train)\n",
    "\n",
    "predict_y = clf.predict_proba(X_train)\n",
    "print(\"The train log loss is:\",log_loss(y_train, predict_y, labels=clf.classes_, eps=1e-15))\n",
    "predict_y = clf.predict_proba(X_test)\n",
    "print(\"The test log loss is:\",log_loss(y_test, predict_y, labels=clf.classes_, eps=1e-15))\n",
    "\n",
    "predicted_y =np.argmax(predict_y,axis=1)\n",
    "print(\"Total number of data points :\", len(predicted_y))\n",
    "plot_confusion_matrix(y_test, predicted_y)"
   ]
  },
  {
   "cell_type": "code",
   "execution_count": null,
   "metadata": {},
   "outputs": [],
   "source": []
  }
 ],
 "metadata": {
  "kernelspec": {
   "display_name": "Python 3",
   "language": "python",
   "name": "python3"
  },
  "language_info": {
   "codemirror_mode": {
    "name": "ipython",
    "version": 3
   },
   "file_extension": ".py",
   "mimetype": "text/x-python",
   "name": "python",
   "nbconvert_exporter": "python",
   "pygments_lexer": "ipython3",
   "version": "3.7.6"
  }
 },
 "nbformat": 4,
 "nbformat_minor": 2
}
